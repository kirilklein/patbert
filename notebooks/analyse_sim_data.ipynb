{
 "cells": [
  {
   "cell_type": "code",
   "execution_count": 12,
   "metadata": {},
   "outputs": [],
   "source": [
    "import numpy as np\n",
    "import pickle as pkl\n",
    "from os.path import join\n",
    "import torch\n",
    "import matplotlib.pyplot as plt\n",
    "import importlib\n",
    "from sklearn.manifold import TSNE\n",
    "from patbert.common import vis\n",
    "from patbert.features import embeddings \n",
    "importlib.reload(embeddings)\n",
    "import string\n"
   ]
  },
  {
   "cell_type": "code",
   "execution_count": 28,
   "metadata": {},
   "outputs": [
    {
     "data": {
      "text/plain": [
       "{'pid': 'p_6',\n",
       " 'birthdate': datetime.datetime(1918, 9, 8, 0, 0),\n",
       " 'sex': 0,\n",
       " 'codes': ['<SEP>',\n",
       "  'L880',\n",
       "  'L356',\n",
       "  '<SEP>',\n",
       "  'MP06O00',\n",
       "  'L522',\n",
       "  'MI55M35',\n",
       "  'MK53T09',\n",
       "  '<SEP>',\n",
       "  'MJ81Z60',\n",
       "  '<SEP>',\n",
       "  'L842',\n",
       "  'DR96942',\n",
       "  'L15',\n",
       "  '<SEP>'],\n",
       " 'ages': [0, 95, 95, 95, 96, 96, 96, 96, 96, 97, 97, 100, 100, 100, 100],\n",
       " 'los': [0, 26, 26, 26, 26, 26, 26, 26, 26, 7, 7, 4, 4, 4, 4],\n",
       " 'visits': [0, 6, 6, 6, 7, 7, 7, 7, 7, 8, 8, 9, 9, 9, 9],\n",
       " 'abs_pos': [0,\n",
       "  1397,\n",
       "  1423,\n",
       "  1423,\n",
       "  1697,\n",
       "  1717,\n",
       "  1743,\n",
       "  1769,\n",
       "  1769,\n",
       "  2055,\n",
       "  2055,\n",
       "  3147,\n",
       "  3150,\n",
       "  3154,\n",
       "  3154],\n",
       " 'values': [1,\n",
       "  -1.7848321389336013,\n",
       "  0.16236986031600997,\n",
       "  1,\n",
       "  1.0,\n",
       "  0.9881315252266694,\n",
       "  1.0,\n",
       "  1.0,\n",
       "  1,\n",
       "  1.0,\n",
       "  1,\n",
       "  -1.0745693863829666,\n",
       "  1.0,\n",
       "  0.7181177946558434,\n",
       "  1],\n",
       " 'idx': [2, 110, 111, 2, 112, 113, 114, 115, 2, 116, 2, 117, 118, 119, 2],\n",
       " 'top_lvl_idx': [2, 9, 9, 2, 11, 9, 11, 11, 2, 11, 2, 9, 10, 9, 2]}"
      ]
     },
     "execution_count": 28,
     "metadata": {},
     "output_type": "execute_result"
    }
   ],
   "source": [
    "data = torch.load(join(\"..\", \"data\", \"tokenized\", \"simulated.pt\"))\n",
    "p0  = data[6]\n",
    "p0['ages'], p0['abs_pos']\n",
    "p0"
   ]
  }
 ],
 "metadata": {
  "kernelspec": {
   "display_name": "patbert",
   "language": "python",
   "name": "python3"
  },
  "language_info": {
   "codemirror_mode": {
    "name": "ipython",
    "version": 3
   },
   "file_extension": ".py",
   "mimetype": "text/x-python",
   "name": "python",
   "nbconvert_exporter": "python",
   "pygments_lexer": "ipython3",
   "version": "3.10.6"
  },
  "orig_nbformat": 4,
  "vscode": {
   "interpreter": {
    "hash": "8fb6e411e82c8a5d6c2a8bdc5fbccfac7dec16b04a57a53901636bf887f1e6c5"
   }
  }
 },
 "nbformat": 4,
 "nbformat_minor": 2
}
