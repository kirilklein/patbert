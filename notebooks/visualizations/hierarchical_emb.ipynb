{
 "cells": [
  {
   "cell_type": "code",
   "execution_count": 219,
   "metadata": {},
   "outputs": [
    {
     "data": {
      "text/plain": [
       "<module 'patbert.visualization.embeddings' from 'c:\\\\users\\\\fjn197\\\\phd\\\\projects\\\\pipelines\\\\patbert\\\\patbert\\\\visualization\\\\embeddings.py'>"
      ]
     },
     "execution_count": 219,
     "metadata": {},
     "output_type": "execute_result"
    }
   ],
   "source": [
    "from patbert.visualization import embeddings\n",
    "import importlib\n",
    "importlib.reload(embeddings)"
   ]
  },
  {
   "cell_type": "code",
   "execution_count": 229,
   "metadata": {},
   "outputs": [],
   "source": [
    "vector_nums = [7, 13, 8, 7]\n",
    "vector_lens = [1.4, 1/4, 1/40, 1/250]\n",
    "marker_sizes = [2*80, 2*10, .5, .01]\n",
    "kwargs = {'seed':2, 'fontsize':19, 'zoom_sub_vec_num':9, 'dpi':100, 'text_x_shift':.1, 'text_y_shift':0, 'figsize':(16,10),\n",
    "            'marker_multiplier':20}\n",
    "embfig = embeddings.EmbeddingFigure(vector_nums, vector_lens, marker_sizes,**kwargs,\n",
    "                save_path='..\\\\reports\\\\figures\\\\initial_embedding.png',\n",
    "                add_inset=False, style='dark_background')\n",
    "fig, ax, axins = embfig()\n",
    "# turn off axes label and ticks\n",
    "ax = embfig.turn_off_frame()\n",
    "# Create the inset axis and plot the zoomed-in data\n",
    "embfig.save_fig()"
   ]
  },
  {
   "cell_type": "code",
   "execution_count": 230,
   "metadata": {},
   "outputs": [],
   "source": [
    "axins_kwargs = {'zoom':20, 'loc':7, 'x':-1, 'y':-1,\n",
    "        'xlim':(-1.015,-.965), 'ylim':(-.79, -.72),\n",
    "        'borderpad':0,\n",
    "        'bbox_to_anchor':(.8, .5), 'mark_inset_loc':(4,2)}\n",
    "embfig = embeddings.EmbeddingFigure(vector_nums, vector_lens, marker_sizes, **kwargs,\n",
    "                axins_kwargs=axins_kwargs, \n",
    "                save_path='..\\\\reports\\\\figures\\\\initial_embedding_zoom.png',\n",
    "                style='dark_background')\n",
    "fig, ax, axins = embfig()\n",
    "axins.text(0.25, .35, 'Neoplasms', transform=axins.transAxes, fontsize=21)\n",
    "axins.text(0.78, 0.8, 'in situ', transform=axins.transAxes, fontsize=18)\n",
    "axins.text(0.6, 0.65, 'Melanoma', transform=axins.transAxes, fontsize=12)\n",
    "# turn off axes label and ticks\n",
    "ax = embfig.turn_off_frame()\n",
    "# Create the inset axis and plot the zoomed-in data\n",
    "embfig.save_fig()\n"
   ]
  },
  {
   "cell_type": "code",
   "execution_count": 234,
   "metadata": {},
   "outputs": [],
   "source": [
    "axins_kwargs = {'zoom':20, 'loc':7, 'x':-1, 'y':-1,\n",
    "        'xlim':(-1.015,-.965), 'ylim':(-.79, -.72),\n",
    "        'borderpad':0,\n",
    "        'bbox_to_anchor':(.8, .5), 'mark_inset_loc':(4,2)}\n",
    "kwargs['marker_multiplier'] = 30\n",
    "kwargs['zoom_sub_vec_num'] = 9\n",
    "kwargs['figsize'] = (10,10)\n",
    "marker_sizes = [80, 10, 2, .3]\n",
    "embfig = embeddings.EmbeddingFigure(vector_nums, vector_lens, marker_sizes, **kwargs,\n",
    "                axins_kwargs=axins_kwargs, \n",
    "                save_path='..\\\\reports\\\\figures\\\\initial_embedding_zoom_light.png',\n",
    "                style='seaborn-paper')\n",
    "fig, ax, axins = embfig()\n",
    "axins.text(0.25,.35, 'Neoplasms', transform=axins.transAxes, fontsize=21)\n",
    "axins.text(0.7,0.8, 'in situ', transform=axins.transAxes, fontsize=18)\n",
    "axins.text(0.5,0.65, 'Melanoma', transform=axins.transAxes, fontsize=12)\n",
    "# turn off axes label and ticks\n",
    "ax = embfig.turn_off_frame()\n",
    "# Create the inset axis and plot the zoomed-in data\n",
    "embfig.save_fig()"
   ]
  }
 ],
 "metadata": {
  "kernelspec": {
   "display_name": "patbert",
   "language": "python",
   "name": "python3"
  },
  "language_info": {
   "codemirror_mode": {
    "name": "ipython",
    "version": 3
   },
   "file_extension": ".py",
   "mimetype": "text/x-python",
   "name": "python",
   "nbconvert_exporter": "python",
   "pygments_lexer": "ipython3",
   "version": "3.10.6"
  },
  "orig_nbformat": 4,
  "vscode": {
   "interpreter": {
    "hash": "8fb6e411e82c8a5d6c2a8bdc5fbccfac7dec16b04a57a53901636bf887f1e6c5"
   }
  }
 },
 "nbformat": 4,
 "nbformat_minor": 2
}
