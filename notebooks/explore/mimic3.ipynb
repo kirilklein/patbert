{
 "cells": [
  {
   "cell_type": "code",
   "execution_count": 33,
   "metadata": {},
   "outputs": [],
   "source": [
    "import pandas as pd\n",
    "from os.path import join\n",
    "mimic_path = \"C:\\\\Users\\\\fjn197\\\\PhD\\\\projects\\\\PHAIR\\\\pipelines\\\\ehr_preprocess\\\\data\\\\processed\\\\mimic-iii-clinical-database-1.4\""
   ]
  },
  {
   "attachments": {},
   "cell_type": "markdown",
   "metadata": {},
   "source": [
    "## Explore patient information"
   ]
  },
  {
   "cell_type": "code",
   "execution_count": 34,
   "metadata": {},
   "outputs": [
    {
     "data": {
      "text/plain": [
       "(M    26121\n",
       " F    20399\n",
       " Name: GENDER, dtype: int64,\n",
       " Medicare      20927\n",
       " Private       19163\n",
       " Medicaid       4369\n",
       " Government     1498\n",
       " Self Pay        563\n",
       " Name: INSURANCE, dtype: int64)"
      ]
     },
     "execution_count": 34,
     "metadata": {},
     "output_type": "execute_result"
    }
   ],
   "source": [
    "patients = pd.read_parquet(join(mimic_path,\"patients_info.parquet\"))\n",
    "patients.GENDER.value_counts(), patients.INSURANCE.value_counts()"
   ]
  },
  {
   "cell_type": "code",
   "execution_count": 35,
   "metadata": {},
   "outputs": [
    {
     "data": {
      "text/plain": [
       "15759"
      ]
     },
     "execution_count": 35,
     "metadata": {},
     "output_type": "execute_result"
    }
   ],
   "source": [
    "# how many have a death date?\n",
    "patients.DEATHDATE.notnull().sum()"
   ]
  },
  {
   "cell_type": "code",
   "execution_count": 36,
   "metadata": {},
   "outputs": [
    {
     "data": {
      "text/plain": [
       "0       2075-03-13\n",
       "1       2164-12-27\n",
       "2       2090-03-15\n",
       "3       2078-03-06\n",
       "4       2089-11-26\n",
       "           ...    \n",
       "46515   2026-05-25\n",
       "46516   2124-07-27\n",
       "46517   2049-11-26\n",
       "46518   2076-07-25\n",
       "46519   2098-07-25\n",
       "Name: BIRTHDATE, Length: 46520, dtype: datetime64[ns]"
      ]
     },
     "execution_count": 36,
     "metadata": {},
     "output_type": "execute_result"
    }
   ],
   "source": [
    "patients.BIRTHDATE "
   ]
  },
  {
   "cell_type": "code",
   "execution_count": 41,
   "metadata": {},
   "outputs": [
    {
     "data": {
      "text/plain": [
       "<AxesSubplot: >"
      ]
     },
     "execution_count": 41,
     "metadata": {},
     "output_type": "execute_result"
    },
    {
     "data": {
      "image/png": "[encoded data removed]",
      "text/plain": [
       "<Figure size 640x480 with 1 Axes>"
      ]
     },
     "metadata": {},
     "output_type": "display_data"
    }
   ],
   "source": [
    "# compute average age of death\n",
    "patients['death_age'] = patients.DEATHDATE.dt.date - patients.BIRTHDATE.dt.date\n",
    "death_age = patients[patients.death_age.notnull()]['death_age'].map(lambda x: x.days / 365.25)\n",
    "death_age.hist()"
   ]
  },
  {
   "cell_type": "code",
   "execution_count": 59,
   "metadata": {},
   "outputs": [],
   "source": [
    "# there are obviously some errors in either birthdate or deathdate"
   ]
  },
  {
   "cell_type": "code",
   "execution_count": 45,
   "metadata": {},
   "outputs": [
    {
     "data": {
      "text/html": [
       "<div>\n",
       "<style scoped>\n",
       "    .dataframe tbody tr th:only-of-type {\n",
       "        vertical-align: middle;\n",
       "    }\n",
       "\n",
       "    .dataframe tbody tr th {\n",
       "        vertical-align: top;\n",
       "    }\n",
       "\n",
       "    .dataframe thead th {\n",
       "        text-align: right;\n",
       "    }\n",
       "</style>\n",
       "<table border=\"1\" class=\"dataframe\">\n",
       "  <thead>\n",
       "    <tr style=\"text-align: right;\">\n",
       "      <th></th>\n",
       "      <th>PID</th>\n",
       "      <th>ADMISSION_ID</th>\n",
       "      <th>TIMESTAMP</th>\n",
       "      <th>TIMESTAMP_END</th>\n",
       "      <th>ADMISSION_TYPE</th>\n",
       "      <th>ADMISSION_LOCATION</th>\n",
       "      <th>DISCHARGE_LOCATION</th>\n",
       "      <th>CONCEPT</th>\n",
       "      <th>ICUSTAY_ID</th>\n",
       "    </tr>\n",
       "  </thead>\n",
       "  <tbody>\n",
       "    <tr>\n",
       "      <th>211</th>\n",
       "      <td>2</td>\n",
       "      <td>163353</td>\n",
       "      <td>2138-07-17</td>\n",
       "      <td>2138-07-21 15:48:00</td>\n",
       "      <td>NEWBORN</td>\n",
       "      <td>PHYS REFERRAL/NORMAL DELI</td>\n",
       "      <td>HOME</td>\n",
       "      <td>THOSPITAL</td>\n",
       "      <td>&lt;NA&gt;</td>\n",
       "    </tr>\n",
       "    <tr>\n",
       "      <th>212</th>\n",
       "      <td>3</td>\n",
       "      <td>145834</td>\n",
       "      <td>2101-10-20</td>\n",
       "      <td>2101-10-31 13:58:00</td>\n",
       "      <td>EMERGENCY</td>\n",
       "      <td>EMERGENCY ROOM ADMIT</td>\n",
       "      <td>SNF</td>\n",
       "      <td>THOSPITAL</td>\n",
       "      <td>&lt;NA&gt;</td>\n",
       "    </tr>\n",
       "    <tr>\n",
       "      <th>213</th>\n",
       "      <td>4</td>\n",
       "      <td>185777</td>\n",
       "      <td>2191-03-16</td>\n",
       "      <td>2191-03-23 18:41:00</td>\n",
       "      <td>EMERGENCY</td>\n",
       "      <td>EMERGENCY ROOM ADMIT</td>\n",
       "      <td>HOME WITH HOME IV PROVIDR</td>\n",
       "      <td>THOSPITAL</td>\n",
       "      <td>&lt;NA&gt;</td>\n",
       "    </tr>\n",
       "    <tr>\n",
       "      <th>214</th>\n",
       "      <td>5</td>\n",
       "      <td>178980</td>\n",
       "      <td>2103-02-02</td>\n",
       "      <td>2103-02-04 12:15:00</td>\n",
       "      <td>NEWBORN</td>\n",
       "      <td>PHYS REFERRAL/NORMAL DELI</td>\n",
       "      <td>HOME</td>\n",
       "      <td>THOSPITAL</td>\n",
       "      <td>&lt;NA&gt;</td>\n",
       "    </tr>\n",
       "    <tr>\n",
       "      <th>215</th>\n",
       "      <td>6</td>\n",
       "      <td>107064</td>\n",
       "      <td>2175-05-30</td>\n",
       "      <td>2175-06-15 16:00:00</td>\n",
       "      <td>ELECTIVE</td>\n",
       "      <td>PHYS REFERRAL/NORMAL DELI</td>\n",
       "      <td>HOME HEALTH CARE</td>\n",
       "      <td>THOSPITAL</td>\n",
       "      <td>&lt;NA&gt;</td>\n",
       "    </tr>\n",
       "    <tr>\n",
       "      <th>...</th>\n",
       "      <td>...</td>\n",
       "      <td>...</td>\n",
       "      <td>...</td>\n",
       "      <td>...</td>\n",
       "      <td>...</td>\n",
       "      <td>...</td>\n",
       "      <td>...</td>\n",
       "      <td>...</td>\n",
       "      <td>...</td>\n",
       "    </tr>\n",
       "    <tr>\n",
       "      <th>56435</th>\n",
       "      <td>99985</td>\n",
       "      <td>176670</td>\n",
       "      <td>2181-01-27</td>\n",
       "      <td>2181-02-12 17:05:00</td>\n",
       "      <td>EMERGENCY</td>\n",
       "      <td>EMERGENCY ROOM ADMIT</td>\n",
       "      <td>HOME HEALTH CARE</td>\n",
       "      <td>THOSPITAL</td>\n",
       "      <td>&lt;NA&gt;</td>\n",
       "    </tr>\n",
       "    <tr>\n",
       "      <th>56436</th>\n",
       "      <td>99991</td>\n",
       "      <td>151118</td>\n",
       "      <td>2184-12-24</td>\n",
       "      <td>2185-01-05 12:15:00</td>\n",
       "      <td>ELECTIVE</td>\n",
       "      <td>PHYS REFERRAL/NORMAL DELI</td>\n",
       "      <td>HOME</td>\n",
       "      <td>THOSPITAL</td>\n",
       "      <td>&lt;NA&gt;</td>\n",
       "    </tr>\n",
       "    <tr>\n",
       "      <th>56437</th>\n",
       "      <td>99992</td>\n",
       "      <td>197084</td>\n",
       "      <td>2144-07-25</td>\n",
       "      <td>2144-07-28 17:56:00</td>\n",
       "      <td>EMERGENCY</td>\n",
       "      <td>CLINIC REFERRAL/PREMATURE</td>\n",
       "      <td>SNF</td>\n",
       "      <td>THOSPITAL</td>\n",
       "      <td>&lt;NA&gt;</td>\n",
       "    </tr>\n",
       "    <tr>\n",
       "      <th>56565</th>\n",
       "      <td>99995</td>\n",
       "      <td>137810</td>\n",
       "      <td>2147-02-08</td>\n",
       "      <td>2147-02-11 13:15:00</td>\n",
       "      <td>ELECTIVE</td>\n",
       "      <td>PHYS REFERRAL/NORMAL DELI</td>\n",
       "      <td>HOME</td>\n",
       "      <td>THOSPITAL</td>\n",
       "      <td>&lt;NA&gt;</td>\n",
       "    </tr>\n",
       "    <tr>\n",
       "      <th>56566</th>\n",
       "      <td>99999</td>\n",
       "      <td>113369</td>\n",
       "      <td>2117-12-30</td>\n",
       "      <td>2118-01-04 16:30:00</td>\n",
       "      <td>ELECTIVE</td>\n",
       "      <td>PHYS REFERRAL/NORMAL DELI</td>\n",
       "      <td>SNF</td>\n",
       "      <td>THOSPITAL</td>\n",
       "      <td>&lt;NA&gt;</td>\n",
       "    </tr>\n",
       "  </tbody>\n",
       "</table>\n",
       "<p>58976 rows × 9 columns</p>\n",
       "</div>"
      ],
      "text/plain": [
       "         PID  ADMISSION_ID   TIMESTAMP       TIMESTAMP_END ADMISSION_TYPE  \\\n",
       "211        2        163353  2138-07-17 2138-07-21 15:48:00        NEWBORN   \n",
       "212        3        145834  2101-10-20 2101-10-31 13:58:00      EMERGENCY   \n",
       "213        4        185777  2191-03-16 2191-03-23 18:41:00      EMERGENCY   \n",
       "214        5        178980  2103-02-02 2103-02-04 12:15:00        NEWBORN   \n",
       "215        6        107064  2175-05-30 2175-06-15 16:00:00       ELECTIVE   \n",
       "...      ...           ...         ...                 ...            ...   \n",
       "56435  99985        176670  2181-01-27 2181-02-12 17:05:00      EMERGENCY   \n",
       "56436  99991        151118  2184-12-24 2185-01-05 12:15:00       ELECTIVE   \n",
       "56437  99992        197084  2144-07-25 2144-07-28 17:56:00      EMERGENCY   \n",
       "56565  99995        137810  2147-02-08 2147-02-11 13:15:00       ELECTIVE   \n",
       "56566  99999        113369  2117-12-30 2118-01-04 16:30:00       ELECTIVE   \n",
       "\n",
       "              ADMISSION_LOCATION         DISCHARGE_LOCATION    CONCEPT  \\\n",
       "211    PHYS REFERRAL/NORMAL DELI                       HOME  THOSPITAL   \n",
       "212         EMERGENCY ROOM ADMIT                        SNF  THOSPITAL   \n",
       "213         EMERGENCY ROOM ADMIT  HOME WITH HOME IV PROVIDR  THOSPITAL   \n",
       "214    PHYS REFERRAL/NORMAL DELI                       HOME  THOSPITAL   \n",
       "215    PHYS REFERRAL/NORMAL DELI           HOME HEALTH CARE  THOSPITAL   \n",
       "...                          ...                        ...        ...   \n",
       "56435       EMERGENCY ROOM ADMIT           HOME HEALTH CARE  THOSPITAL   \n",
       "56436  PHYS REFERRAL/NORMAL DELI                       HOME  THOSPITAL   \n",
       "56437  CLINIC REFERRAL/PREMATURE                        SNF  THOSPITAL   \n",
       "56565  PHYS REFERRAL/NORMAL DELI                       HOME  THOSPITAL   \n",
       "56566  PHYS REFERRAL/NORMAL DELI                        SNF  THOSPITAL   \n",
       "\n",
       "       ICUSTAY_ID  \n",
       "211          <NA>  \n",
       "212          <NA>  \n",
       "213          <NA>  \n",
       "214          <NA>  \n",
       "215          <NA>  \n",
       "...           ...  \n",
       "56435        <NA>  \n",
       "56436        <NA>  \n",
       "56437        <NA>  \n",
       "56565        <NA>  \n",
       "56566        <NA>  \n",
       "\n",
       "[58976 rows x 9 columns]"
      ]
     },
     "execution_count": 45,
     "metadata": {},
     "output_type": "execute_result"
    }
   ],
   "source": [
    "transfers = pd.read_parquet(join(mimic_path, \"concept.transfer.parquet\"))\n",
    "transfers[\"TIMESTAMP\"] = transfers[\"TIMESTAMP\"].dt.date\n",
    "transfers[transfers.CONCEPT==\"THOSPITAL\"]"
   ]
  },
  {
   "cell_type": "code",
   "execution_count": 78,
   "metadata": {},
   "outputs": [
    {
     "data": {
      "text/plain": [
       "(PID                               44019\n",
       " GENDER                                F\n",
       " BIRTHDATE                    1901-01-14\n",
       " DEATHDATE                    2201-01-14\n",
       " INSURANCE                      Medicare\n",
       " LANGUAGE                           None\n",
       " RELIGION                  NOT SPECIFIED\n",
       " MARITAL_STATUS                  MARRIED\n",
       " ETHNICITY         UNKNOWN/NOT SPECIFIED\n",
       " death_age          109573 days, 0:00:00\n",
       " Name: 46497, dtype: object,\n",
       "           PID  ADMISSION_ID   TIMESTAMP       TIMESTAMP_END ADMISSION_TYPE  \\\n",
       " 103192  44019        125484  2201-01-13 2201-01-14 00:10:00           None   \n",
       " 103193  44019        125484  2201-01-14 2201-01-14 14:45:00      EMERGENCY   \n",
       " 103194  44019        125484  2201-01-14 2201-01-14 18:43:55           None   \n",
       " \n",
       "                ADMISSION_LOCATION DISCHARGE_LOCATION     CONCEPT  ICUSTAY_ID  \n",
       " 103192                       None               None  TEMERGENCY        <NA>  \n",
       " 103193  CLINIC REFERRAL/PREMATURE       DEAD/EXPIRED   THOSPITAL        <NA>  \n",
       " 103194                       None               None        TICU      252752  )"
      ]
     },
     "execution_count": 78,
     "metadata": {},
     "output_type": "execute_result"
    }
   ],
   "source": [
    "patients.iloc[46497], transfers[transfers.PID == 44019]\n",
    "# we see that deathdate corresponds to the vistts"
   ]
  },
  {
   "attachments": {},
   "cell_type": "markdown",
   "metadata": {},
   "source": [
    "### We drop birthdate for patients with age at admission > 100"
   ]
  },
  {
   "cell_type": "code",
   "execution_count": 46,
   "metadata": {},
   "outputs": [],
   "source": [
    "transfers = pd.merge(transfers, patients[[\"PID\", \"BIRTHDATE\"]], on=\"PID\", how=\"left\")\n",
    "transfers[\"BIRTHDATE\"] = transfers[\"BIRTHDATE\"].dt.date\n",
    "transfers[\"age\"] = (transfers.TIMESTAMP - transfers.BIRTHDATE).map(lambda x: x.days / 365.25)"
   ]
  },
  {
   "cell_type": "code",
   "execution_count": 48,
   "metadata": {},
   "outputs": [],
   "source": [
    "remove_pids = transfers[transfers.age > 100].PID.unique()"
   ]
  },
  {
   "cell_type": "code",
   "execution_count": 49,
   "metadata": {},
   "outputs": [
    {
     "data": {
      "text/plain": [
       "<IntegerArray>\n",
       "[   19,    30,    34,    56,   112,   149,   151,   166,   175,   213,\n",
       " ...\n",
       " 98932, 99081, 99162, 99186, 99206, 99333, 99441, 99483, 99635, 99936]\n",
       "Length: 1991, dtype: Int32"
      ]
     },
     "execution_count": 49,
     "metadata": {},
     "output_type": "execute_result"
    }
   ],
   "source": [
    "remove_pids"
   ]
  },
  {
   "cell_type": "code",
   "execution_count": 47,
   "metadata": {},
   "outputs": [
    {
     "data": {
      "text/plain": [
       "<AxesSubplot: >"
      ]
     },
     "execution_count": 47,
     "metadata": {},
     "output_type": "execute_result"
    },
    {
     "data": {
      "image/png": "[encoded data removed]",
      "text/plain": [
       "<Figure size 640x480 with 1 Axes>"
      ]
     },
     "metadata": {},
     "output_type": "display_data"
    }
   ],
   "source": [
    "transfers.age.hist()"
   ]
  },
  {
   "attachments": {},
   "cell_type": "markdown",
   "metadata": {},
   "source": [
    "We should replace values occuring in less than 1% with a RARE token"
   ]
  }
 ],
 "metadata": {
  "kernelspec": {
   "display_name": "patbert",
   "language": "python",
   "name": "python3"
  },
  "language_info": {
   "codemirror_mode": {
    "name": "ipython",
    "version": 3
   },
   "file_extension": ".py",
   "mimetype": "text/x-python",
   "name": "python",
   "nbconvert_exporter": "python",
   "pygments_lexer": "ipython3",
   "version": "3.10.9"
  },
  "orig_nbformat": 4,
  "vscode": {
   "interpreter": {
    "hash": "8fb6e411e82c8a5d6c2a8bdc5fbccfac7dec16b04a57a53901636bf887f1e6c5"
   }
  }
 },
 "nbformat": 4,
 "nbformat_minor": 2
}
