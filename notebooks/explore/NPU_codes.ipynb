{
 "cells": [
  {
   "cell_type": "code",
   "execution_count": 3,
   "metadata": {},
   "outputs": [],
   "source": [
    "import pandas as pd"
   ]
  },
  {
   "cell_type": "code",
   "execution_count": 9,
   "metadata": {},
   "outputs": [
    {
     "data": {
      "text/html": [
       "<div>\n",
       "<style scoped>\n",
       "    .dataframe tbody tr th:only-of-type {\n",
       "        vertical-align: middle;\n",
       "    }\n",
       "\n",
       "    .dataframe tbody tr th {\n",
       "        vertical-align: top;\n",
       "    }\n",
       "\n",
       "    .dataframe thead th {\n",
       "        text-align: right;\n",
       "    }\n",
       "</style>\n",
       "<table border=\"1\" class=\"dataframe\">\n",
       "  <thead>\n",
       "    <tr style=\"text-align: right;\">\n",
       "      <th></th>\n",
       "      <th>NPU code</th>\n",
       "      <th>Component</th>\n",
       "    </tr>\n",
       "  </thead>\n",
       "  <tbody>\n",
       "    <tr>\n",
       "      <th>1344</th>\n",
       "      <td>DNK05005</td>\n",
       "      <td>Alkaline phosphatase, bone type</td>\n",
       "    </tr>\n",
       "    <tr>\n",
       "      <th>1348</th>\n",
       "      <td>DNK05013</td>\n",
       "      <td>Alkaline phosphatase, placental type</td>\n",
       "    </tr>\n",
       "    <tr>\n",
       "      <th>464</th>\n",
       "      <td>DNK05020</td>\n",
       "      <td>Amylase</td>\n",
       "    </tr>\n",
       "    <tr>\n",
       "      <th>7387</th>\n",
       "      <td>DNK05025</td>\n",
       "      <td>Lactate dehydrogenase type</td>\n",
       "    </tr>\n",
       "    <tr>\n",
       "      <th>7389</th>\n",
       "      <td>DNK05042</td>\n",
       "      <td>Lactate dehydrogenase H4</td>\n",
       "    </tr>\n",
       "    <tr>\n",
       "      <th>...</th>\n",
       "      <td>...</td>\n",
       "      <td>...</td>\n",
       "    </tr>\n",
       "    <tr>\n",
       "      <th>11211</th>\n",
       "      <td>NPU61021</td>\n",
       "      <td>Cidofovir</td>\n",
       "    </tr>\n",
       "    <tr>\n",
       "      <th>11225</th>\n",
       "      <td>NPU61022</td>\n",
       "      <td>Maribavir</td>\n",
       "    </tr>\n",
       "    <tr>\n",
       "      <th>11223</th>\n",
       "      <td>NPU61023</td>\n",
       "      <td>Letermovir</td>\n",
       "    </tr>\n",
       "    <tr>\n",
       "      <th>9919</th>\n",
       "      <td>NPU61031</td>\n",
       "      <td>Somatoliberin</td>\n",
       "    </tr>\n",
       "    <tr>\n",
       "      <th>9917</th>\n",
       "      <td>NPU61033</td>\n",
       "      <td>Somatotropin secretion</td>\n",
       "    </tr>\n",
       "  </tbody>\n",
       "</table>\n",
       "<p>11379 rows × 2 columns</p>\n",
       "</div>"
      ],
      "text/plain": [
       "       NPU code                             Component\n",
       "1344   DNK05005       Alkaline phosphatase, bone type\n",
       "1348   DNK05013  Alkaline phosphatase, placental type\n",
       "464    DNK05020                               Amylase\n",
       "7387   DNK05025            Lactate dehydrogenase type\n",
       "7389   DNK05042              Lactate dehydrogenase H4\n",
       "...         ...                                   ...\n",
       "11211  NPU61021                             Cidofovir\n",
       "11225  NPU61022                             Maribavir\n",
       "11223  NPU61023                            Letermovir\n",
       "9919   NPU61031                         Somatoliberin\n",
       "9917   NPU61033                Somatotropin secretion\n",
       "\n",
       "[11379 rows x 2 columns]"
      ]
     },
     "execution_count": 9,
     "metadata": {},
     "output_type": "execute_result"
    }
   ],
   "source": [
    "df = pd.read_csv('..\\\\..\\\\data\\\\medical\\\\NPUlistEN221222.csv', encoding='latin-1', \n",
    "    delimiter=';')\n",
    "df = df[['NPU code', 'Component']].sort_values(by='NPU code')\n",
    "# df.iloc[350:400]\n",
    "df"
   ]
  },
  {
   "cell_type": "code",
   "execution_count": null,
   "metadata": {},
   "outputs": [],
   "source": []
  }
 ],
 "metadata": {
  "kernelspec": {
   "display_name": "patbert",
   "language": "python",
   "name": "python3"
  },
  "language_info": {
   "codemirror_mode": {
    "name": "ipython",
    "version": 3
   },
   "file_extension": ".py",
   "mimetype": "text/x-python",
   "name": "python",
   "nbconvert_exporter": "python",
   "pygments_lexer": "ipython3",
   "version": "3.10.6"
  },
  "orig_nbformat": 4,
  "vscode": {
   "interpreter": {
    "hash": "8fb6e411e82c8a5d6c2a8bdc5fbccfac7dec16b04a57a53901636bf887f1e6c5"
   }
  }
 },
 "nbformat": 4,
 "nbformat_minor": 2
}
