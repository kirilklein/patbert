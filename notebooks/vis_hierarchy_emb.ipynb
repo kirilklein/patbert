{
 "cells": [
  {
   "cell_type": "code",
   "execution_count": 75,
   "metadata": {},
   "outputs": [
    {
     "data": {
      "text/plain": [
       "<module 'patbert.visualization.embeddings' from 'c:\\\\users\\\\fjn197\\\\phd\\\\projects\\\\pipelines\\\\patbert\\\\patbert\\\\visualization\\\\embeddings.py'>"
      ]
     },
     "execution_count": 75,
     "metadata": {},
     "output_type": "execute_result"
    }
   ],
   "source": [
    "from patbert.visualization import embeddings\n",
    "import importlib\n",
    "importlib.reload(embeddings)"
   ]
  },
  {
   "cell_type": "code",
   "execution_count": 107,
   "metadata": {},
   "outputs": [],
   "source": [
    "vector_nums = [7, 13, 8, 7]\n",
    "vector_lens = [1.4, 1/4, 1/40, 1/250]\n",
    "marker_sizes = [2*80, 2*10, .5, .01]\n",
    "kwargs = {'seed':2, 'fontsize':19, 'zoom_sub_vec_num':9, 'dpi':100, 'text_x_shift':.1, 'text_y_shift':0, 'figsize':(13,10),\n",
    "            'marker_multiplier':20}\n",
    "embfig = embeddings.EmbeddingFigure(vector_nums, vector_lens, marker_sizes,**kwargs,\n",
    "                save_path='..\\\\reports\\\\figures\\\\initial_embedding.png',\n",
    "                add_inset=False, style='dark_background')\n",
    "fig, ax, axins = embfig()\n",
    "# turn off axes label and ticks\n",
    "ax = embfig.turn_off_frame()\n",
    "# Create the inset axis and plot the zoomed-in data\n",
    "embfig.save_fig()"
   ]
  },
  {
   "cell_type": "code",
   "execution_count": 108,
   "metadata": {},
   "outputs": [],
   "source": [
    "axins_kwargs = {'zoom':20, 'loc':7, 'x':-1, 'y':-1,\n",
    "        'xlim':(-1.015,-.965), 'ylim':(-.79, -.72),\n",
    "        'borderpad':0,\n",
    "        'bbox_to_anchor':(.8, .5), 'mark_inset_loc':(4,2)}\n",
    "embfig = embeddings.EmbeddingFigure(vector_nums, vector_lens, marker_sizes, **kwargs,\n",
    "                axins_kwargs=axins_kwargs, \n",
    "                save_path='..\\\\reports\\\\figures\\\\initial_embedding_zoom.png',\n",
    "                style='dark_background')\n",
    "fig, ax, axins = embfig()\n",
    "axins.text(0.25, .35, 'Neoplasms', transform=axins.transAxes, fontsize=21)\n",
    "axins.text(0.8, 0.8, 'in situ', transform=axins.transAxes, fontsize=18)\n",
    "axins.text(0.6, 0.65, 'Melanoma', transform=axins.transAxes, fontsize=12)\n",
    "# turn off axes label and ticks\n",
    "ax = embfig.turn_off_frame()\n",
    "# Create the inset axis and plot the zoomed-in data\n",
    "embfig.save_fig()\n"
   ]
  },
  {
   "cell_type": "code",
   "execution_count": 98,
   "metadata": {},
   "outputs": [
    {
     "ename": "TypeError",
     "evalue": "patbert.visualization.embeddings.EmbeddingFigure() got multiple values for keyword argument 'figsize'",
     "output_type": "error",
     "traceback": [
      "\u001b[1;31m---------------------------------------------------------------------------\u001b[0m",
      "\u001b[1;31mTypeError\u001b[0m                                 Traceback (most recent call last)",
      "Cell \u001b[1;32mIn [98], line 5\u001b[0m\n\u001b[0;32m      1\u001b[0m axins_kwargs \u001b[39m=\u001b[39m {\u001b[39m'\u001b[39m\u001b[39mzoom\u001b[39m\u001b[39m'\u001b[39m:\u001b[39m20\u001b[39m, \u001b[39m'\u001b[39m\u001b[39mloc\u001b[39m\u001b[39m'\u001b[39m:\u001b[39m7\u001b[39m, \u001b[39m'\u001b[39m\u001b[39mx\u001b[39m\u001b[39m'\u001b[39m:\u001b[39m-\u001b[39m\u001b[39m1\u001b[39m, \u001b[39m'\u001b[39m\u001b[39my\u001b[39m\u001b[39m'\u001b[39m:\u001b[39m-\u001b[39m\u001b[39m1\u001b[39m,\n\u001b[0;32m      2\u001b[0m         \u001b[39m'\u001b[39m\u001b[39mxlim\u001b[39m\u001b[39m'\u001b[39m:(\u001b[39m-\u001b[39m\u001b[39m1.015\u001b[39m,\u001b[39m-\u001b[39m\u001b[39m.965\u001b[39m), \u001b[39m'\u001b[39m\u001b[39mylim\u001b[39m\u001b[39m'\u001b[39m:(\u001b[39m-\u001b[39m\u001b[39m.79\u001b[39m, \u001b[39m-\u001b[39m\u001b[39m.72\u001b[39m),\n\u001b[0;32m      3\u001b[0m         \u001b[39m'\u001b[39m\u001b[39mborderpad\u001b[39m\u001b[39m'\u001b[39m:\u001b[39m0\u001b[39m,\n\u001b[0;32m      4\u001b[0m         \u001b[39m'\u001b[39m\u001b[39mbbox_to_anchor\u001b[39m\u001b[39m'\u001b[39m:(\u001b[39m.8\u001b[39m, \u001b[39m.5\u001b[39m), \u001b[39m'\u001b[39m\u001b[39mmark_inset_loc\u001b[39m\u001b[39m'\u001b[39m:(\u001b[39m4\u001b[39m,\u001b[39m2\u001b[39m)}\n\u001b[1;32m----> 5\u001b[0m embfig \u001b[39m=\u001b[39m embeddings\u001b[39m.\u001b[39mEmbeddingFigure(vector_nums, vector_lens, marker_sizes, \u001b[39m*\u001b[39m\u001b[39m*\u001b[39mkwargs,\n\u001b[0;32m      6\u001b[0m                 axins_kwargs\u001b[39m=\u001b[39maxins_kwargs, \n\u001b[0;32m      7\u001b[0m                 save_path\u001b[39m=\u001b[39m\u001b[39m'\u001b[39m\u001b[39m..\u001b[39m\u001b[39m\\\\\u001b[39;00m\u001b[39mreports\u001b[39m\u001b[39m\\\\\u001b[39;00m\u001b[39mfigures\u001b[39m\u001b[39m\\\\\u001b[39;00m\u001b[39minitial_embedding_zoom_light.png\u001b[39m\u001b[39m'\u001b[39m,\n\u001b[0;32m      8\u001b[0m                 figsize\u001b[39m=\u001b[39m(\u001b[39m15\u001b[39m,\u001b[39m10\u001b[39m), style\u001b[39m=\u001b[39m\u001b[39m'\u001b[39m\u001b[39mseaborn-paper\u001b[39m\u001b[39m'\u001b[39m)\n\u001b[0;32m      9\u001b[0m fig, ax, axins \u001b[39m=\u001b[39m embfig()\n\u001b[0;32m     10\u001b[0m axins\u001b[39m.\u001b[39mtext(\u001b[39m0.25\u001b[39m,\u001b[39m.35\u001b[39m, \u001b[39m'\u001b[39m\u001b[39mNeoplasms\u001b[39m\u001b[39m'\u001b[39m, transform\u001b[39m=\u001b[39maxins\u001b[39m.\u001b[39mtransAxes, fontsize\u001b[39m=\u001b[39m\u001b[39m21\u001b[39m)\n",
      "\u001b[1;31mTypeError\u001b[0m: patbert.visualization.embeddings.EmbeddingFigure() got multiple values for keyword argument 'figsize'"
     ]
    }
   ],
   "source": [
    "axins_kwargs = {'zoom':20, 'loc':7, 'x':-1, 'y':-1,\n",
    "        'xlim':(-1.015,-.965), 'ylim':(-.79, -.72),\n",
    "        'borderpad':0,\n",
    "        'bbox_to_anchor':(.8, .5), 'mark_inset_loc':(4,2)}\n",
    "embfig = embeddings.EmbeddingFigure(vector_nums, vector_lens, marker_sizes, **kwargs,\n",
    "                axins_kwargs=axins_kwargs, \n",
    "                save_path='..\\\\reports\\\\figures\\\\initial_embedding_zoom_light.png',\n",
    "                figsize=(15,10), style='seaborn-paper')\n",
    "fig, ax, axins = embfig()\n",
    "axins.text(0.25,.35, 'Neoplasms', transform=axins.transAxes, fontsize=21)\n",
    "axins.text(0.8,0.8, 'in situ', transform=axins.transAxes, fontsize=18)\n",
    "axins.text(0.6,0.65, 'Melanoma', transform=axins.transAxes, fontsize=12)\n",
    "# turn off axes label and ticks\n",
    "ax = embfig.turn_off_frame()\n",
    "# Create the inset axis and plot the zoomed-in data\n",
    "embfig.save_fig()"
   ]
  }
 ],
 "metadata": {
  "kernelspec": {
   "display_name": "patbert",
   "language": "python",
   "name": "python3"
  },
  "language_info": {
   "codemirror_mode": {
    "name": "ipython",
    "version": 3
   },
   "file_extension": ".py",
   "mimetype": "text/x-python",
   "name": "python",
   "nbconvert_exporter": "python",
   "pygments_lexer": "ipython3",
   "version": "3.10.6"
  },
  "orig_nbformat": 4,
  "vscode": {
   "interpreter": {
    "hash": "8fb6e411e82c8a5d6c2a8bdc5fbccfac7dec16b04a57a53901636bf887f1e6c5"
   }
  }
 },
 "nbformat": 4,
 "nbformat_minor": 2
}
